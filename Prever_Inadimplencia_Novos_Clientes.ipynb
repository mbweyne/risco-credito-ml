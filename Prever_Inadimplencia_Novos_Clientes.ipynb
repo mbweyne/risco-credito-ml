{
  "cells": [
    {
      "cell_type": "markdown",
      "id": "8878aaa8",
      "metadata": {
        "id": "8878aaa8"
      },
      "source": [
        "# Prever Inadimplencia de Novos Clientes\n",
        "\n",
        "Este notebook carrega o modelo e o scaler treinados, aplica o processamento aos novos dados de clientes e gera previsões de inadimplência."
      ]
    },
    {
      "cell_type": "code",
      "execution_count": null,
      "id": "e9fb4f54",
      "metadata": {
        "id": "e9fb4f54"
      },
      "outputs": [],
      "source": [
        "# 1. Importar bibliotecas\n",
        "import pandas as pd\n",
        "import joblib\n",
        "\n"
      ]
    },
    {
      "cell_type": "code",
      "source": [
        "# 2. Carregar modelo e scaler\n",
        "modelo = joblib.load(\"modelo_risco_credito.pkl\")\n",
        "scaler = joblib.load(\"scaler_risco_credito.pkl\")\n",
        "\n"
      ],
      "metadata": {
        "id": "PwKlDk-xdvth"
      },
      "id": "PwKlDk-xdvth",
      "execution_count": null,
      "outputs": []
    },
    {
      "cell_type": "code",
      "source": [
        "# 3. Carregar novos dados\n",
        "novos_dados = pd.read_csv(\"novos_clientes.csv\")\n",
        "features = ['limit_bal', 'age', 'pay_0', 'pay_2', 'pay_4', 'pay_5', 'pay_amt2']\n",
        "X_novos = novos_dados[features]\n"
      ],
      "metadata": {
        "id": "mw_cOlLLdyNy"
      },
      "id": "mw_cOlLLdyNy",
      "execution_count": null,
      "outputs": []
    },
    {
      "cell_type": "code",
      "source": [
        "# 4. Padronizar os dados com o scaler salvo\n",
        "X_novos_scaled = scaler.transform(X_novos)"
      ],
      "metadata": {
        "id": "Dy_MY7t0d8L2"
      },
      "id": "Dy_MY7t0d8L2",
      "execution_count": null,
      "outputs": []
    },
    {
      "cell_type": "code",
      "source": [
        "# 5. Fazer previsões\n",
        "novos_dados['prob_inadimplencia'] = modelo.predict_proba(X_novos_scaled)[:, 1]\n",
        "novos_dados['inadimplente_previsto'] = modelo.predict(X_novos_scaled)\n"
      ],
      "metadata": {
        "id": "xPTeXLQaeA2i"
      },
      "id": "xPTeXLQaeA2i",
      "execution_count": null,
      "outputs": []
    },
    {
      "cell_type": "code",
      "source": [
        "\n",
        "# 6. Visualizar resultados\n",
        "print(novos_dados[['prob_inadimplencia', 'inadimplente_previsto']])\n"
      ],
      "metadata": {
        "id": "t5OcFFpJeD_5"
      },
      "id": "t5OcFFpJeD_5",
      "execution_count": null,
      "outputs": []
    },
    {
      "cell_type": "code",
      "source": [
        "# 7. Salvar resultados\n",
        "novos_dados.to_csv(\"clientes_com_previsoes.csv\", index=False)\n",
        "print(\"Arquivo 'clientes_com_previsoes.csv' salvo com sucesso.\")"
      ],
      "metadata": {
        "id": "4MPnKpezeHZW"
      },
      "id": "4MPnKpezeHZW",
      "execution_count": null,
      "outputs": []
    }
  ],
  "metadata": {
    "colab": {
      "provenance": []
    }
  },
  "nbformat": 4,
  "nbformat_minor": 5
}